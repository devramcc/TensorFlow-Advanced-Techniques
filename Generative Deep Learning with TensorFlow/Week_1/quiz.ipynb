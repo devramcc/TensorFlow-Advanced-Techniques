{
  "nbformat": 4,
  "nbformat_minor": 0,
  "metadata": {
    "colab": {
      "provenance": []
    },
    "kernelspec": {
      "name": "python3",
      "display_name": "Python 3"
    },
    "language_info": {
      "name": "python"
    }
  },
  "cells": [
    {
      "cell_type": "code",
      "execution_count": 7,
      "metadata": {
        "colab": {
          "base_uri": "https://localhost:8080/"
        },
        "id": "oAXSA3_mJpnX",
        "outputId": "65b623e7-f1ff-499c-e78f-0a23929fa545"
      },
      "outputs": [
        {
          "output_type": "stream",
          "name": "stdout",
          "text": [
            "tf.Tensor(\n",
            "[[ 2 -3]\n",
            " [-4  3]], shape=(2, 2), dtype=int32)\n"
          ]
        }
      ],
      "source": [
        "import tensorflow as tf\n",
        "\n",
        "a = tf.constant([[5,2],[1,7]])\n",
        "b = tf.constant([[3,5],[5,4]])\n",
        "\n",
        "c = a - b\n",
        "print(c)"
      ]
    },
    {
      "cell_type": "code",
      "source": [
        "c = c ** 2"
      ],
      "metadata": {
        "id": "qba4tGqKKHbD"
      },
      "execution_count": 15,
      "outputs": []
    },
    {
      "cell_type": "code",
      "source": [
        "tf.reduce_sum(c)"
      ],
      "metadata": {
        "colab": {
          "base_uri": "https://localhost:8080/"
        },
        "id": "kpLdWFCEKJiV",
        "outputId": "05bcfbc5-1b0f-40c4-ccf9-c604d559d105"
      },
      "execution_count": 16,
      "outputs": [
        {
          "output_type": "execute_result",
          "data": {
            "text/plain": [
              "<tf.Tensor: shape=(), dtype=int32, numpy=38>"
            ]
          },
          "metadata": {},
          "execution_count": 16
        }
      ]
    },
    {
      "cell_type": "code",
      "source": [
        "c * 1/2"
      ],
      "metadata": {
        "colab": {
          "base_uri": "https://localhost:8080/"
        },
        "id": "d3QtEndWKm5z",
        "outputId": "ac3365dc-2faf-410d-d7ee-354e5cde936c"
      },
      "execution_count": 17,
      "outputs": [
        {
          "output_type": "execute_result",
          "data": {
            "text/plain": [
              "<tf.Tensor: shape=(2, 2), dtype=float64, numpy=\n",
              "array([[2. , 4.5],\n",
              "       [8. , 4.5]])>"
            ]
          },
          "metadata": {},
          "execution_count": 17
        }
      ]
    }
  ]
}