{
 "cells": [
  {
   "cell_type": "markdown",
   "metadata": {
    "colab_type": "text",
    "id": "view-in-github"
   },
   "source": [
    "<a href=\"https://colab.research.google.com/github/https-deeplearning-ai/tensorflow-3-public/blob/main/Course%201%20-%20Custom%20Models%2C%20Layers%20and%20Loss%20Functions/Week%205%20-%20Callbacks/C1_W5_Lab_1_exploring-callbacks.ipynb\" target=\"_parent\"><img src=\"https://colab.research.google.com/assets/colab-badge.svg\" alt=\"Open In Colab\"/></a>"
   ]
  },
  {
   "cell_type": "markdown",
   "metadata": {
    "colab_type": "text",
    "id": "0c_TYhQOUe1j"
   },
   "source": [
    "# Ungraded Lab: Introduction to Keras callbacks\n",
    "\n",
    "In Keras, `Callback` is a Python class meant to be subclassed to provide specific functionality, with a set of methods called at various stages of training (including batch/epoch start and ends), testing, and predicting. Callbacks are useful to get a view on internal states and statistics of the model during training. The methods of the callbacks can  be called at different stages of training/evaluating/inference. Keras has available [callbacks](https://keras.io/api/callbacks/) and we'll show how you can use it in the following sections. Please click the **Open in Colab** badge above to complete this exercise in Colab. This will allow you to take advantage of the free GPU runtime (for faster training) and compatibility with all the packages needed in this notebook."
   ]
  },
  {
   "cell_type": "markdown",
   "metadata": {
    "colab_type": "text",
    "id": "Uyl69EyRQx-f"
   },
   "source": [
    "## Model methods that take callbacks\n",
    "Users can supply a list of callbacks to the following `tf.keras.Model` methods:\n",
    "* [`fit()`](https://www.tensorflow.org/versions/r2.0/api_docs/python/tf/keras/Model#fit), [`fit_generator()`](https://www.tensorflow.org/versions/r2.0/api_docs/python/tf/keras/Model#fit_generator)\n",
    "Trains the model for a fixed number of epochs (iterations over a dataset, or data yielded batch-by-batch by a Python generator).\n",
    "* [`evaluate()`](https://www.tensorflow.org/versions/r2.0/api_docs/python/tf/keras/Model#evaluate), [`evaluate_generator()`](https://www.tensorflow.org/versions/r2.0/api_docs/python/tf/keras/Model#evaluate_generator)\n",
    "Evaluates the model for given data or data generator. Outputs the loss and metric values from the evaluation.\n",
    "* [`predict()`](https://www.tensorflow.org/versions/r2.0/api_docs/python/tf/keras/Model#predict), [`predict_generator()`](https://www.tensorflow.org/versions/r2.0/api_docs/python/tf/keras/Model#predict_generator)\n",
    "Generates output predictions for the input data or data generator."
   ]
  },
  {
   "cell_type": "markdown",
   "metadata": {},
   "source": [
    "## Imports"
   ]
  },
  {
   "cell_type": "code",
   "execution_count": 1,
   "metadata": {
    "colab": {},
    "colab_type": "code",
    "id": "AlT1Kh3uA9lZ"
   },
   "outputs": [
    {
     "name": "stdout",
     "output_type": "stream",
     "text": [
      "Version:  2.1.0\n"
     ]
    }
   ],
   "source": [
    "from __future__ import absolute_import, division, print_function, unicode_literals\n",
    "\n",
    "try:\n",
    "    # %tensorflow_version only exists in Colab.\n",
    "    %tensorflow_version 2.x\n",
    "except Exception:\n",
    "    pass\n",
    "\n",
    "import tensorflow as tf\n",
    "import tensorflow_datasets as tfds\n",
    "import matplotlib.pyplot as plt\n",
    "import io\n",
    "from PIL import Image\n",
    "\n",
    "from tensorflow.keras.callbacks import TensorBoard, EarlyStopping, LearningRateScheduler, ModelCheckpoint, CSVLogger, ReduceLROnPlateau\n",
    "%load_ext tensorboard\n",
    "\n",
    "import os\n",
    "import matplotlib.pylab as plt\n",
    "import numpy as np\n",
    "import math\n",
    "import datetime\n",
    "import pandas as pd\n",
    "\n",
    "print(\"Version: \", tf.__version__)\n",
    "tf.get_logger().setLevel('INFO')"
   ]
  },
  {
   "cell_type": "markdown",
   "metadata": {
    "colab_type": "text",
    "id": "HnSljqtsXKfb"
   },
   "source": [
    "# Examples of Keras callback applications\n",
    "The following section will guide you through creating simple [Callback](https://keras.io/api/callbacks/) applications."
   ]
  },
  {
   "cell_type": "code",
   "execution_count": 2,
   "metadata": {
    "colab": {},
    "colab_type": "code",
    "id": "spskRuxvCYQE"
   },
   "outputs": [],
   "source": [
    "# Download and prepare the horses or humans dataset\n",
    "\n",
    "# horses_or_humans 3.0.0 has already been downloaded for you\n",
    "path = \"./tensorflow_datasets\"\n",
    "splits, info = tfds.load('horses_or_humans', data_dir=path, as_supervised=True, with_info=True, split=['train[:80%]', 'train[80%:]', 'test'])\n",
    "\n",
    "(train_examples, validation_examples, test_examples) = splits\n",
    "\n",
    "num_examples = info.splits['train'].num_examples\n",
    "num_classes = info.features['label'].num_classes"
   ]
  },
  {
   "cell_type": "code",
   "execution_count": 3,
   "metadata": {
    "colab": {},
    "colab_type": "code",
    "id": "veIsubKTCZsN"
   },
   "outputs": [],
   "source": [
    "SIZE = 150 #@param {type:\"slider\", min:64, max:300, step:1}\n",
    "IMAGE_SIZE = (SIZE, SIZE)"
   ]
  },
  {
   "cell_type": "code",
   "execution_count": 4,
   "metadata": {
    "colab": {},
    "colab_type": "code",
    "id": "faajLlErCb1S"
   },
   "outputs": [],
   "source": [
    "def format_image(image, label):\n",
    "  image = tf.image.resize(image, IMAGE_SIZE) / 255.0\n",
    "  return  image, label"
   ]
  },
  {
   "cell_type": "code",
   "execution_count": 5,
   "metadata": {
    "colab": {},
    "colab_type": "code",
    "id": "AVXPuU12Cdka"
   },
   "outputs": [],
   "source": [
    "BATCH_SIZE = 32 #@param {type:\"integer\"}"
   ]
  },
  {
   "cell_type": "code",
   "execution_count": 6,
   "metadata": {
    "colab": {},
    "colab_type": "code",
    "id": "0lHDkFVaCe48"
   },
   "outputs": [],
   "source": [
    "train_batches = train_examples.shuffle(num_examples // 4).map(format_image).batch(BATCH_SIZE).prefetch(1)\n",
    "validation_batches = validation_examples.map(format_image).batch(BATCH_SIZE).prefetch(1)\n",
    "test_batches = test_examples.map(format_image).batch(1)"
   ]
  },
  {
   "cell_type": "code",
   "execution_count": 7,
   "metadata": {
    "colab": {},
    "colab_type": "code",
    "id": "DxsCqEIkCgUt"
   },
   "outputs": [
    {
     "data": {
      "text/plain": [
       "TensorShape([32, 150, 150, 3])"
      ]
     },
     "execution_count": 7,
     "metadata": {},
     "output_type": "execute_result"
    }
   ],
   "source": [
    "for image_batch, label_batch in train_batches.take(1):\n",
    "  pass\n",
    "\n",
    "image_batch.shape"
   ]
  },
  {
   "cell_type": "code",
   "execution_count": 8,
   "metadata": {
    "colab": {},
    "colab_type": "code",
    "id": "iDBpWvHXCh2A"
   },
   "outputs": [],
   "source": [
    "def build_model(dense_units, input_shape=IMAGE_SIZE + (3,)):\n",
    "  model = tf.keras.models.Sequential([\n",
    "      tf.keras.layers.Conv2D(16, (3, 3), activation='relu', input_shape=input_shape),\n",
    "      tf.keras.layers.MaxPooling2D(2, 2),\n",
    "      tf.keras.layers.Conv2D(32, (3, 3), activation='relu'),\n",
    "      tf.keras.layers.MaxPooling2D(2, 2),\n",
    "      tf.keras.layers.Conv2D(64, (3, 3), activation='relu'),\n",
    "      tf.keras.layers.MaxPooling2D(2, 2),\n",
    "      tf.keras.layers.Flatten(),\n",
    "      tf.keras.layers.Dense(dense_units, activation='relu'),\n",
    "      tf.keras.layers.Dense(2, activation='softmax')\n",
    "  ])\n",
    "  return model"
   ]
  },
  {
   "cell_type": "markdown",
   "metadata": {
    "colab_type": "text",
    "id": "0ZKGkjagENSw"
   },
   "source": [
    "## [TensorBoard](https://keras.io/api/callbacks/tensorboard/)\n",
    "\n",
    "Enable visualizations for TensorBoard."
   ]
  },
  {
   "cell_type": "code",
   "execution_count": 9,
   "metadata": {
    "colab": {},
    "colab_type": "code",
    "id": "CeiD2WVEHbex"
   },
   "outputs": [],
   "source": [
    "!rm -rf logs"
   ]
  },
  {
   "cell_type": "code",
   "execution_count": 10,
   "metadata": {
    "colab": {},
    "colab_type": "code",
    "id": "PpLwPLnAEOzv"
   },
   "outputs": [
    {
     "name": "stdout",
     "output_type": "stream",
     "text": [
      "Epoch 1/10\n",
      "26/26 [==============================] - 22s 836ms/step - loss: 0.6763 - accuracy: 0.5596 - val_loss: 0.6651 - val_accuracy: 0.5463\n",
      "Epoch 2/10\n",
      "26/26 [==============================] - 20s 783ms/step - loss: 0.6226 - accuracy: 0.7068 - val_loss: 0.6004 - val_accuracy: 0.7366\n",
      "Epoch 3/10\n",
      "26/26 [==============================] - 20s 785ms/step - loss: 0.5568 - accuracy: 0.7579 - val_loss: 0.5325 - val_accuracy: 0.7317\n",
      "Epoch 4/10\n",
      "26/26 [==============================] - 20s 777ms/step - loss: 0.5215 - accuracy: 0.7372 - val_loss: 0.4815 - val_accuracy: 0.7512\n",
      "Epoch 5/10\n",
      "26/26 [==============================] - 20s 776ms/step - loss: 0.4491 - accuracy: 0.7968 - val_loss: 0.4448 - val_accuracy: 0.7951\n",
      "Epoch 6/10\n",
      "26/26 [==============================] - 21s 788ms/step - loss: 0.4123 - accuracy: 0.8248 - val_loss: 0.3766 - val_accuracy: 0.8098\n",
      "Epoch 7/10\n",
      "26/26 [==============================] - 21s 796ms/step - loss: 0.4018 - accuracy: 0.8345 - val_loss: 0.3631 - val_accuracy: 0.8976\n",
      "Epoch 8/10\n",
      "26/26 [==============================] - 21s 792ms/step - loss: 0.3201 - accuracy: 0.8844 - val_loss: 0.6126 - val_accuracy: 0.6293\n",
      "Epoch 9/10\n",
      "26/26 [==============================] - 21s 793ms/step - loss: 0.2840 - accuracy: 0.9015 - val_loss: 0.2320 - val_accuracy: 0.9317\n",
      "Epoch 10/10\n",
      "26/26 [==============================] - 21s 789ms/step - loss: 0.2251 - accuracy: 0.9331 - val_loss: 0.1838 - val_accuracy: 0.9512\n"
     ]
    },
    {
     "data": {
      "text/plain": [
       "<tensorflow.python.keras.callbacks.History at 0x7fd3edb89990>"
      ]
     },
     "execution_count": 10,
     "metadata": {},
     "output_type": "execute_result"
    }
   ],
   "source": [
    "model = build_model(dense_units=256)\n",
    "model.compile(\n",
    "    optimizer='sgd',\n",
    "    loss='sparse_categorical_crossentropy', \n",
    "    metrics=['accuracy'])\n",
    "  \n",
    "logdir = os.path.join(\"logs\", datetime.datetime.now().strftime(\"%Y%m%d-%H%M%S\"))\n",
    "tensorboard_callback = tf.keras.callbacks.TensorBoard(logdir)\n",
    "\n",
    "model.fit(train_batches, \n",
    "          epochs=10, \n",
    "          validation_data=validation_batches, \n",
    "          callbacks=[tensorboard_callback])"
   ]
  },
  {
   "cell_type": "code",
   "execution_count": 11,
   "metadata": {
    "colab": {},
    "colab_type": "code",
    "id": "iJunWOjZE0ir"
   },
   "outputs": [
    {
     "data": {
      "text/html": [
       "\n",
       "      <iframe id=\"tensorboard-frame-6e962b8cbb795814\" width=\"100%\" height=\"800\" frameborder=\"0\">\n",
       "      </iframe>\n",
       "      <script>\n",
       "        (function() {\n",
       "          const frame = document.getElementById(\"tensorboard-frame-6e962b8cbb795814\");\n",
       "          const url = new URL(\"/\", window.location);\n",
       "          url.port = 6006;\n",
       "          frame.src = url;\n",
       "        })();\n",
       "      </script>\n",
       "  "
      ],
      "text/plain": [
       "<IPython.core.display.HTML object>"
      ]
     },
     "metadata": {},
     "output_type": "display_data"
    }
   ],
   "source": [
    "%tensorboard --logdir logs"
   ]
  },
  {
   "cell_type": "markdown",
   "metadata": {
    "colab_type": "text",
    "id": "wv9H4Pc2Mfl7"
   },
   "source": [
    "## [Model Checkpoint](https://keras.io/api/callbacks/model_checkpoint/)\n",
    "\n",
    "Callback to save the Keras model or model weights at some frequency."
   ]
  },
  {
   "cell_type": "code",
   "execution_count": 12,
   "metadata": {
    "colab": {},
    "colab_type": "code",
    "id": "PYV4FJ8iMmDq"
   },
   "outputs": [
    {
     "name": "stdout",
     "output_type": "stream",
     "text": [
      "Epoch 1/5\n",
      "\n",
      "Epoch 00001: saving model to weights.01-0.62.h5\n",
      "26/26 - 21s - loss: 0.6655 - accuracy: 0.5985 - val_loss: 0.6174 - val_accuracy: 0.7805\n",
      "Epoch 2/5\n",
      "\n",
      "Epoch 00002: saving model to weights.02-0.59.h5\n",
      "26/26 - 21s - loss: 0.6031 - accuracy: 0.6922 - val_loss: 0.5946 - val_accuracy: 0.6976\n",
      "Epoch 3/5\n",
      "\n",
      "Epoch 00003: saving model to weights.03-0.54.h5\n",
      "26/26 - 21s - loss: 0.5330 - accuracy: 0.7603 - val_loss: 0.5436 - val_accuracy: 0.6634\n",
      "Epoch 4/5\n",
      "\n",
      "Epoch 00004: saving model to weights.04-0.44.h5\n",
      "26/26 - 21s - loss: 0.4604 - accuracy: 0.8236 - val_loss: 0.4433 - val_accuracy: 0.8195\n",
      "Epoch 5/5\n",
      "\n",
      "Epoch 00005: saving model to weights.05-0.41.h5\n",
      "26/26 - 21s - loss: 0.3872 - accuracy: 0.8516 - val_loss: 0.4062 - val_accuracy: 0.8341\n"
     ]
    },
    {
     "data": {
      "text/plain": [
       "<tensorflow.python.keras.callbacks.History at 0x7fd3eda4c750>"
      ]
     },
     "execution_count": 12,
     "metadata": {},
     "output_type": "execute_result"
    }
   ],
   "source": [
    "model = build_model(dense_units=256)\n",
    "model.compile(\n",
    "    optimizer='sgd',\n",
    "    loss='sparse_categorical_crossentropy', \n",
    "    metrics=['accuracy'])\n",
    "  \n",
    "model.fit(train_batches, \n",
    "          epochs=5, \n",
    "          validation_data=validation_batches, \n",
    "          verbose=2,\n",
    "          callbacks=[ModelCheckpoint('weights.{epoch:02d}-{val_loss:.2f}.h5', verbose=1),\n",
    "          ])"
   ]
  },
  {
   "cell_type": "code",
   "execution_count": 13,
   "metadata": {
    "colab": {},
    "colab_type": "code",
    "id": "oGvjQ8IlMmK6"
   },
   "outputs": [
    {
     "name": "stdout",
     "output_type": "stream",
     "text": [
      "\n",
      "Epoch 00001: saving model to saved_model\n",
      "WARNING:tensorflow:From /opt/conda/lib/python3.7/site-packages/tensorflow_core/python/ops/resource_variable_ops.py:1786: calling BaseResourceVariable.__init__ (from tensorflow.python.ops.resource_variable_ops) with constraint is deprecated and will be removed in a future version.\n",
      "Instructions for updating:\n",
      "If using Keras pass *_constraint arguments to layers.\n"
     ]
    },
    {
     "name": "stderr",
     "output_type": "stream",
     "text": [
      "WARNING:tensorflow:From /opt/conda/lib/python3.7/site-packages/tensorflow_core/python/ops/resource_variable_ops.py:1786: calling BaseResourceVariable.__init__ (from tensorflow.python.ops.resource_variable_ops) with constraint is deprecated and will be removed in a future version.\n",
      "Instructions for updating:\n",
      "If using Keras pass *_constraint arguments to layers.\n"
     ]
    },
    {
     "name": "stdout",
     "output_type": "stream",
     "text": [
      "INFO:tensorflow:Assets written to: saved_model/assets\n"
     ]
    },
    {
     "name": "stderr",
     "output_type": "stream",
     "text": [
      "INFO:tensorflow:Assets written to: saved_model/assets\n"
     ]
    },
    {
     "name": "stdout",
     "output_type": "stream",
     "text": [
      "26/26 - 21s - loss: 0.6819 - accuracy: 0.5316 - val_loss: 0.6812 - val_accuracy: 0.4732\n"
     ]
    },
    {
     "data": {
      "text/plain": [
       "<tensorflow.python.keras.callbacks.History at 0x7fd3ed90b150>"
      ]
     },
     "execution_count": 13,
     "metadata": {},
     "output_type": "execute_result"
    }
   ],
   "source": [
    "model = build_model(dense_units=256)\n",
    "model.compile(\n",
    "    optimizer='sgd',\n",
    "    loss='sparse_categorical_crossentropy', \n",
    "    metrics=['accuracy'])\n",
    "  \n",
    "model.fit(train_batches, \n",
    "          epochs=1, \n",
    "          validation_data=validation_batches, \n",
    "          verbose=2,\n",
    "          callbacks=[ModelCheckpoint('saved_model', verbose=1)\n",
    "          ])"
   ]
  },
  {
   "cell_type": "code",
   "execution_count": 14,
   "metadata": {
    "colab": {},
    "colab_type": "code",
    "id": "Y1ConwoB0EjD"
   },
   "outputs": [
    {
     "name": "stdout",
     "output_type": "stream",
     "text": [
      "Epoch 1/2\n",
      "\n",
      "Epoch 00001: saving model to model.h5\n",
      "26/26 - 23s - loss: 0.6682 - accuracy: 0.5900 - val_loss: 0.6840 - val_accuracy: 0.4829\n",
      "Epoch 2/2\n",
      "\n",
      "Epoch 00002: saving model to model.h5\n",
      "26/26 - 24s - loss: 0.6070 - accuracy: 0.6703 - val_loss: 0.5891 - val_accuracy: 0.7561\n"
     ]
    },
    {
     "data": {
      "text/plain": [
       "<tensorflow.python.keras.callbacks.History at 0x7fd3ed6d0e10>"
      ]
     },
     "execution_count": 14,
     "metadata": {},
     "output_type": "execute_result"
    }
   ],
   "source": [
    "model = build_model(dense_units=256)\n",
    "model.compile(\n",
    "    optimizer='sgd',\n",
    "    loss='sparse_categorical_crossentropy', \n",
    "    metrics=['accuracy'])\n",
    "  \n",
    "model.fit(train_batches, \n",
    "          epochs=2, \n",
    "          validation_data=validation_batches, \n",
    "          verbose=2,\n",
    "          callbacks=[ModelCheckpoint('model.h5', verbose=1)\n",
    "          ])"
   ]
  },
  {
   "cell_type": "markdown",
   "metadata": {
    "colab_type": "text",
    "id": "kptNF0--Lznv"
   },
   "source": [
    "## [Early stopping](https://keras.io/api/callbacks/early_stopping/)\n",
    "\n",
    "Stop training when a monitored metric has stopped improving."
   ]
  },
  {
   "cell_type": "code",
   "execution_count": 15,
   "metadata": {
    "colab": {},
    "colab_type": "code",
    "id": "KJOJTJYdCkdY"
   },
   "outputs": [
    {
     "name": "stdout",
     "output_type": "stream",
     "text": [
      "Epoch 1/50\n",
      "26/26 - 26s - loss: 0.6490 - accuracy: 0.6046 - val_loss: 0.7267 - val_accuracy: 0.4732\n",
      "Epoch 2/50\n",
      "26/26 - 27s - loss: 0.6036 - accuracy: 0.6983 - val_loss: 0.6656 - val_accuracy: 0.5171\n",
      "Epoch 3/50\n",
      "26/26 - 24s - loss: 0.5580 - accuracy: 0.7348 - val_loss: 0.5365 - val_accuracy: 0.7366\n",
      "Epoch 4/50\n",
      "26/26 - 23s - loss: 0.4734 - accuracy: 0.8017 - val_loss: 0.4292 - val_accuracy: 0.8244\n",
      "Epoch 5/50\n",
      "26/26 - 24s - loss: 0.4444 - accuracy: 0.7895 - val_loss: 0.4180 - val_accuracy: 0.8537\n",
      "Epoch 6/50\n",
      "26/26 - 22s - loss: 0.3701 - accuracy: 0.8564 - val_loss: 0.4924 - val_accuracy: 0.7561\n",
      "Epoch 7/50\n",
      "26/26 - 22s - loss: 0.3489 - accuracy: 0.8650 - val_loss: 0.3222 - val_accuracy: 0.8927\n",
      "Epoch 8/50\n",
      "26/26 - 22s - loss: 0.2674 - accuracy: 0.9173 - val_loss: 0.3218 - val_accuracy: 0.8829\n",
      "Epoch 9/50\n",
      "26/26 - 22s - loss: 0.2431 - accuracy: 0.9197 - val_loss: 0.2163 - val_accuracy: 0.9268\n",
      "Epoch 10/50\n",
      "26/26 - 22s - loss: 0.1731 - accuracy: 0.9586 - val_loss: 0.4550 - val_accuracy: 0.7902\n",
      "Epoch 11/50\n",
      "26/26 - 23s - loss: 0.1476 - accuracy: 0.9599 - val_loss: 0.1516 - val_accuracy: 0.9366\n",
      "Epoch 12/50\n",
      "26/26 - 22s - loss: 0.1270 - accuracy: 0.9647 - val_loss: 0.1647 - val_accuracy: 0.9317\n",
      "Epoch 13/50\n",
      "26/26 - 22s - loss: 0.1777 - accuracy: 0.9367 - val_loss: 0.0831 - val_accuracy: 0.9854\n",
      "Epoch 14/50\n",
      "26/26 - 23s - loss: 0.0815 - accuracy: 0.9854 - val_loss: 0.0720 - val_accuracy: 0.9805\n",
      "Epoch 15/50\n",
      "26/26 - 22s - loss: 0.0685 - accuracy: 0.9866 - val_loss: 0.0615 - val_accuracy: 0.9854\n",
      "Epoch 16/50\n",
      "Restoring model weights from the end of the best epoch.\n",
      "26/26 - 20s - loss: 0.0818 - accuracy: 0.9805 - val_loss: 0.0581 - val_accuracy: 0.9854\n",
      "Epoch 00016: early stopping\n"
     ]
    },
    {
     "data": {
      "text/plain": [
       "<tensorflow.python.keras.callbacks.History at 0x7fd3ed62b090>"
      ]
     },
     "execution_count": 15,
     "metadata": {},
     "output_type": "execute_result"
    }
   ],
   "source": [
    "model = build_model(dense_units=256)\n",
    "model.compile(\n",
    "    optimizer='sgd',\n",
    "    loss='sparse_categorical_crossentropy', \n",
    "    metrics=['accuracy'])\n",
    "  \n",
    "model.fit(train_batches, \n",
    "          epochs=50, \n",
    "          validation_data=validation_batches, \n",
    "          verbose=2,\n",
    "          callbacks=[EarlyStopping(\n",
    "              patience=3,\n",
    "              min_delta=0.05,\n",
    "              baseline=0.8,\n",
    "              mode='min',\n",
    "              monitor='val_loss',\n",
    "              restore_best_weights=True,\n",
    "              verbose=1)\n",
    "          ])"
   ]
  },
  {
   "cell_type": "markdown",
   "metadata": {
    "colab_type": "text",
    "id": "8mDzWUD4Pqq5"
   },
   "source": [
    "## [CSV Logger](https://keras.io/api/callbacks/csv_logger/)\n",
    "\n",
    "Callback that streams epoch results to a CSV file."
   ]
  },
  {
   "cell_type": "code",
   "execution_count": 16,
   "metadata": {
    "colab": {},
    "colab_type": "code",
    "id": "cffnMpmGPtMh"
   },
   "outputs": [
    {
     "name": "stdout",
     "output_type": "stream",
     "text": [
      "Epoch 1/5\n",
      "26/26 [==============================] - 21s 817ms/step - loss: 0.6733 - accuracy: 0.5742 - val_loss: 0.6548 - val_accuracy: 0.6000\n",
      "Epoch 2/5\n",
      "26/26 [==============================] - 21s 790ms/step - loss: 0.6472 - accuracy: 0.6022 - val_loss: 0.6239 - val_accuracy: 0.7756\n",
      "Epoch 3/5\n",
      "26/26 [==============================] - 20s 773ms/step - loss: 0.5912 - accuracy: 0.7579 - val_loss: 0.6164 - val_accuracy: 0.5854\n",
      "Epoch 4/5\n",
      "26/26 [==============================] - 20s 777ms/step - loss: 0.5523 - accuracy: 0.7409 - val_loss: 0.5581 - val_accuracy: 0.7220\n",
      "Epoch 5/5\n",
      "26/26 [==============================] - 20s 769ms/step - loss: 0.5120 - accuracy: 0.7518 - val_loss: 0.4987 - val_accuracy: 0.8098\n"
     ]
    },
    {
     "data": {
      "text/plain": [
       "<tensorflow.python.keras.callbacks.History at 0x7fd3ed4ba250>"
      ]
     },
     "execution_count": 16,
     "metadata": {},
     "output_type": "execute_result"
    }
   ],
   "source": [
    "model = build_model(dense_units=256)\n",
    "model.compile(\n",
    "    optimizer='sgd',\n",
    "    loss='sparse_categorical_crossentropy', \n",
    "    metrics=['accuracy'])\n",
    "  \n",
    "csv_file = 'training.csv'\n",
    "\n",
    "model.fit(train_batches, \n",
    "          epochs=5, \n",
    "          validation_data=validation_batches, \n",
    "          callbacks=[CSVLogger(csv_file)\n",
    "          ])"
   ]
  },
  {
   "cell_type": "code",
   "execution_count": 17,
   "metadata": {
    "colab": {},
    "colab_type": "code",
    "id": "B9tkYi03QV7R"
   },
   "outputs": [
    {
     "data": {
      "text/html": [
       "<div>\n",
       "<style scoped>\n",
       "    .dataframe tbody tr th:only-of-type {\n",
       "        vertical-align: middle;\n",
       "    }\n",
       "\n",
       "    .dataframe tbody tr th {\n",
       "        vertical-align: top;\n",
       "    }\n",
       "\n",
       "    .dataframe thead th {\n",
       "        text-align: right;\n",
       "    }\n",
       "</style>\n",
       "<table border=\"1\" class=\"dataframe\">\n",
       "  <thead>\n",
       "    <tr style=\"text-align: right;\">\n",
       "      <th></th>\n",
       "      <th>epoch</th>\n",
       "      <th>accuracy</th>\n",
       "      <th>loss</th>\n",
       "      <th>val_accuracy</th>\n",
       "      <th>val_loss</th>\n",
       "    </tr>\n",
       "  </thead>\n",
       "  <tbody>\n",
       "    <tr>\n",
       "      <th>0</th>\n",
       "      <td>0</td>\n",
       "      <td>0.574209</td>\n",
       "      <td>0.673405</td>\n",
       "      <td>0.600000</td>\n",
       "      <td>0.654779</td>\n",
       "    </tr>\n",
       "    <tr>\n",
       "      <th>1</th>\n",
       "      <td>1</td>\n",
       "      <td>0.602190</td>\n",
       "      <td>0.646289</td>\n",
       "      <td>0.775610</td>\n",
       "      <td>0.623914</td>\n",
       "    </tr>\n",
       "    <tr>\n",
       "      <th>2</th>\n",
       "      <td>2</td>\n",
       "      <td>0.757908</td>\n",
       "      <td>0.591358</td>\n",
       "      <td>0.585366</td>\n",
       "      <td>0.616421</td>\n",
       "    </tr>\n",
       "    <tr>\n",
       "      <th>3</th>\n",
       "      <td>3</td>\n",
       "      <td>0.740876</td>\n",
       "      <td>0.553637</td>\n",
       "      <td>0.721951</td>\n",
       "      <td>0.558117</td>\n",
       "    </tr>\n",
       "    <tr>\n",
       "      <th>4</th>\n",
       "      <td>4</td>\n",
       "      <td>0.751825</td>\n",
       "      <td>0.512733</td>\n",
       "      <td>0.809756</td>\n",
       "      <td>0.498656</td>\n",
       "    </tr>\n",
       "  </tbody>\n",
       "</table>\n",
       "</div>"
      ],
      "text/plain": [
       "   epoch  accuracy      loss  val_accuracy  val_loss\n",
       "0      0  0.574209  0.673405      0.600000  0.654779\n",
       "1      1  0.602190  0.646289      0.775610  0.623914\n",
       "2      2  0.757908  0.591358      0.585366  0.616421\n",
       "3      3  0.740876  0.553637      0.721951  0.558117\n",
       "4      4  0.751825  0.512733      0.809756  0.498656"
      ]
     },
     "execution_count": 17,
     "metadata": {},
     "output_type": "execute_result"
    }
   ],
   "source": [
    "pd.read_csv(csv_file).head()"
   ]
  },
  {
   "cell_type": "markdown",
   "metadata": {
    "colab_type": "text",
    "id": "Dt9C2Y9fRBKN"
   },
   "source": [
    "## [Learning Rate Scheduler](https://keras.io/api/callbacks/learning_rate_scheduler/)\n",
    "\n",
    "Updates the learning rate during training."
   ]
  },
  {
   "cell_type": "code",
   "execution_count": 18,
   "metadata": {
    "colab": {},
    "colab_type": "code",
    "id": "aJi-xY2VRC03"
   },
   "outputs": [
    {
     "name": "stdout",
     "output_type": "stream",
     "text": [
      "\n",
      "Epoch 00001: LearningRateScheduler reducing learning rate to 0.005.\n",
      "Epoch 1/5\n",
      "26/26 [==============================] - 27s 1s/step - loss: 0.6813 - accuracy: 0.5535 - val_loss: 0.7424 - val_accuracy: 0.4341\n",
      "\n",
      "Epoch 00002: LearningRateScheduler reducing learning rate to 0.0025.\n",
      "Epoch 2/5\n",
      "26/26 [==============================] - 21s 797ms/step - loss: 0.6622 - accuracy: 0.5912 - val_loss: 0.6628 - val_accuracy: 0.6098\n",
      "\n",
      "Epoch 00003: LearningRateScheduler reducing learning rate to 0.00125.\n",
      "Epoch 3/5\n",
      "26/26 [==============================] - 21s 796ms/step - loss: 0.6490 - accuracy: 0.6448 - val_loss: 0.6593 - val_accuracy: 0.6049\n",
      "\n",
      "Epoch 00004: LearningRateScheduler reducing learning rate to 0.000625.\n",
      "Epoch 4/5\n",
      "26/26 [==============================] - 21s 803ms/step - loss: 0.6422 - accuracy: 0.6533 - val_loss: 0.6565 - val_accuracy: 0.6049\n",
      "\n",
      "Epoch 00005: LearningRateScheduler reducing learning rate to 0.0003125.\n",
      "Epoch 5/5\n",
      "26/26 [==============================] - 20s 778ms/step - loss: 0.6387 - accuracy: 0.6606 - val_loss: 0.6561 - val_accuracy: 0.5951\n"
     ]
    },
    {
     "data": {
      "text/plain": [
       "<tensorflow.python.keras.callbacks.History at 0x7fd3ed2f5e50>"
      ]
     },
     "execution_count": 18,
     "metadata": {},
     "output_type": "execute_result"
    }
   ],
   "source": [
    "model = build_model(dense_units=256)\n",
    "model.compile(\n",
    "    optimizer='sgd',\n",
    "    loss='sparse_categorical_crossentropy', \n",
    "    metrics=['accuracy'])\n",
    "  \n",
    "def step_decay(epoch):\n",
    "\tinitial_lr = 0.01\n",
    "\tdrop = 0.5\n",
    "\tepochs_drop = 1\n",
    "\tlr = initial_lr * math.pow(drop, math.floor((1+epoch)/epochs_drop))\n",
    "\treturn lr\n",
    "\n",
    "model.fit(train_batches, \n",
    "          epochs=5, \n",
    "          validation_data=validation_batches, \n",
    "          callbacks=[LearningRateScheduler(step_decay, verbose=1),\n",
    "                    TensorBoard(log_dir='./log_dir')])"
   ]
  },
  {
   "cell_type": "code",
   "execution_count": 19,
   "metadata": {
    "colab": {},
    "colab_type": "code",
    "id": "M2S4n8nrbV91"
   },
   "outputs": [
    {
     "data": {
      "text/html": [
       "\n",
       "      <iframe id=\"tensorboard-frame-e9b8d9e1ed9dddeb\" width=\"100%\" height=\"800\" frameborder=\"0\">\n",
       "      </iframe>\n",
       "      <script>\n",
       "        (function() {\n",
       "          const frame = document.getElementById(\"tensorboard-frame-e9b8d9e1ed9dddeb\");\n",
       "          const url = new URL(\"/\", window.location);\n",
       "          url.port = 6007;\n",
       "          frame.src = url;\n",
       "        })();\n",
       "      </script>\n",
       "  "
      ],
      "text/plain": [
       "<IPython.core.display.HTML object>"
      ]
     },
     "metadata": {},
     "output_type": "display_data"
    }
   ],
   "source": [
    "%tensorboard --logdir log_dir"
   ]
  },
  {
   "cell_type": "markdown",
   "metadata": {
    "colab_type": "text",
    "id": "y0wcuQyJE_UK"
   },
   "source": [
    "## [ReduceLROnPlateau](https://keras.io/api/callbacks/reduce_lr_on_plateau/)\n",
    "\n",
    "Reduce learning rate when a metric has stopped improving."
   ]
  },
  {
   "cell_type": "code",
   "execution_count": null,
   "metadata": {
    "colab": {},
    "colab_type": "code",
    "id": "4naxZ-eCFB27"
   },
   "outputs": [
    {
     "name": "stdout",
     "output_type": "stream",
     "text": [
      "Epoch 1/50\n",
      "26/26 [==============================] - 22s 852ms/step - loss: 0.6755 - accuracy: 0.5584 - val_loss: 0.6659 - val_accuracy: 0.5463\n",
      "Epoch 2/50\n",
      "26/26 [==============================] - 21s 815ms/step - loss: 0.6394 - accuracy: 0.6533 - val_loss: 0.6215 - val_accuracy: 0.6000\n",
      "Epoch 3/50\n",
      "26/26 [==============================] - 21s 815ms/step - loss: 0.5869 - accuracy: 0.7287 - val_loss: 0.5833 - val_accuracy: 0.6439\n",
      "Epoch 4/50\n",
      "26/26 [==============================] - 20s 766ms/step - loss: 0.5357 - accuracy: 0.7421 - val_loss: 0.4929 - val_accuracy: 0.8341\n",
      "Epoch 5/50\n",
      "26/26 [==============================] - 20s 784ms/step - loss: 0.5171 - accuracy: 0.7628 - val_loss: 0.4573 - val_accuracy: 0.8390\n",
      "Epoch 6/50\n",
      "26/26 [==============================] - 20s 774ms/step - loss: 0.4432 - accuracy: 0.8114 - val_loss: 0.4286 - val_accuracy: 0.8439\n",
      "Epoch 7/50\n",
      "26/26 [==============================] - 20s 772ms/step - loss: 0.3923 - accuracy: 0.8321 - val_loss: 0.4116 - val_accuracy: 0.8537\n",
      "Epoch 8/50\n",
      "26/26 [==============================] - 20s 777ms/step - loss: 0.3626 - accuracy: 0.8516 - val_loss: 0.3242 - val_accuracy: 0.8829\n",
      "Epoch 9/50\n",
      "26/26 [==============================] - 21s 800ms/step - loss: 0.3265 - accuracy: 0.8735 - val_loss: 0.2966 - val_accuracy: 0.8927\n",
      "Epoch 10/50\n",
      "26/26 [==============================] - 20s 773ms/step - loss: 0.2749 - accuracy: 0.8978 - val_loss: 0.2581 - val_accuracy: 0.8976\n",
      "Epoch 11/50\n",
      "26/26 [==============================] - 20s 769ms/step - loss: 0.2019 - accuracy: 0.9416 - val_loss: 0.1517 - val_accuracy: 0.9854\n",
      "Epoch 12/50\n",
      "25/26 [===========================>..] - ETA: 0s - loss: 0.1805 - accuracy: 0.9513\n",
      "Epoch 00012: ReduceLROnPlateau reducing learning rate to 0.0019999999552965165.\n",
      "26/26 [==============================] - 20s 777ms/step - loss: 0.1779 - accuracy: 0.9526 - val_loss: 0.1535 - val_accuracy: 0.9512\n",
      "Epoch 13/50\n",
      "26/26 [==============================] - 20s 788ms/step - loss: 0.1285 - accuracy: 0.9781 - val_loss: 0.1186 - val_accuracy: 0.9707\n",
      "Epoch 14/50\n",
      "26/26 [==============================] - 21s 796ms/step - loss: 0.1213 - accuracy: 0.9793 - val_loss: 0.1080 - val_accuracy: 0.9805\n",
      "Epoch 15/50\n",
      "26/26 [==============================] - 20s 776ms/step - loss: 0.1152 - accuracy: 0.9818 - val_loss: 0.1057 - val_accuracy: 0.9805\n",
      "Epoch 16/50\n",
      "26/26 [==============================] - 21s 790ms/step - loss: 0.1104 - accuracy: 0.9830 - val_loss: 0.0957 - val_accuracy: 0.9805\n",
      "Epoch 17/50\n",
      "26/26 [==============================] - 20s 777ms/step - loss: 0.1027 - accuracy: 0.9842 - val_loss: 0.0912 - val_accuracy: 0.9805\n",
      "Epoch 18/50\n",
      "26/26 [==============================] - 20s 762ms/step - loss: 0.0998 - accuracy: 0.9842 - val_loss: 0.0882 - val_accuracy: 0.9805\n",
      "Epoch 19/50\n",
      "25/26 [===========================>..] - ETA: 0s - loss: 0.0954 - accuracy: 0.9837\n",
      "Epoch 00019: ReduceLROnPlateau reducing learning rate to 0.001.\n",
      "26/26 [==============================] - 20s 788ms/step - loss: 0.0950 - accuracy: 0.9842 - val_loss: 0.0936 - val_accuracy: 0.9805\n",
      "Epoch 20/50\n",
      "26/26 [==============================] - 20s 769ms/step - loss: 0.0910 - accuracy: 0.9842 - val_loss: 0.0875 - val_accuracy: 0.9805\n",
      "Epoch 21/50\n",
      "26/26 [==============================] - 20s 777ms/step - loss: 0.0891 - accuracy: 0.9854 - val_loss: 0.0869 - val_accuracy: 0.9805\n",
      "Epoch 22/50\n",
      "26/26 [==============================] - 21s 792ms/step - loss: 0.0883 - accuracy: 0.9854 - val_loss: 0.0808 - val_accuracy: 0.9805\n",
      "Epoch 23/50\n",
      "25/26 [===========================>..] - ETA: 0s - loss: 0.0867 - accuracy: 0.9837\n",
      "Epoch 00023: ReduceLROnPlateau reducing learning rate to 0.001.\n",
      "26/26 [==============================] - 20s 781ms/step - loss: 0.0855 - accuracy: 0.9842 - val_loss: 0.0822 - val_accuracy: 0.9805\n",
      "Epoch 24/50\n",
      "26/26 [==============================] - 20s 765ms/step - loss: 0.0846 - accuracy: 0.9866 - val_loss: 0.0802 - val_accuracy: 0.9805\n",
      "Epoch 25/50\n",
      "25/26 [===========================>..] - ETA: 0s - loss: 0.0808 - accuracy: 0.9875\n",
      "Epoch 00025: ReduceLROnPlateau reducing learning rate to 0.001.\n",
      "26/26 [==============================] - 20s 758ms/step - loss: 0.0828 - accuracy: 0.9866 - val_loss: 0.0831 - val_accuracy: 0.9805\n",
      "Epoch 26/50\n",
      "26/26 [==============================] - 20s 768ms/step - loss: 0.0804 - accuracy: 0.9866 - val_loss: 0.0783 - val_accuracy: 0.9805\n",
      "Epoch 27/50\n",
      "26/26 [==============================] - 21s 789ms/step - loss: 0.0796 - accuracy: 0.9866 - val_loss: 0.0745 - val_accuracy: 0.9854\n",
      "Epoch 28/50\n",
      "25/26 [===========================>..] - ETA: 0s - loss: 0.0786 - accuracy: 0.9875\n",
      "Epoch 00028: ReduceLROnPlateau reducing learning rate to 0.001.\n",
      "26/26 [==============================] - 20s 788ms/step - loss: 0.0772 - accuracy: 0.9878 - val_loss: 0.0759 - val_accuracy: 0.9805\n",
      "Epoch 29/50\n",
      "26/26 [==============================] - 20s 766ms/step - loss: 0.0763 - accuracy: 0.9878 - val_loss: 0.0731 - val_accuracy: 0.9805\n",
      "Epoch 30/50\n",
      "26/26 [==============================] - 21s 792ms/step - loss: 0.0739 - accuracy: 0.9878 - val_loss: 0.0725 - val_accuracy: 0.9805\n",
      "Epoch 31/50\n",
      "26/26 [==============================] - 20s 773ms/step - loss: 0.0738 - accuracy: 0.9866 - val_loss: 0.0707 - val_accuracy: 0.9854\n",
      "Epoch 32/50\n",
      "26/26 [==============================] - 20s 773ms/step - loss: 0.0726 - accuracy: 0.9878 - val_loss: 0.0695 - val_accuracy: 0.9854\n",
      "Epoch 33/50\n",
      "25/26 [===========================>..] - ETA: 0s - loss: 0.0708 - accuracy: 0.9887\n",
      "Epoch 00033: ReduceLROnPlateau reducing learning rate to 0.001.\n",
      "26/26 [==============================] - 20s 788ms/step - loss: 0.0697 - accuracy: 0.9891 - val_loss: 0.0709 - val_accuracy: 0.9805\n",
      "Epoch 34/50\n",
      "26/26 [==============================] - 20s 777ms/step - loss: 0.0687 - accuracy: 0.9878 - val_loss: 0.0688 - val_accuracy: 0.9854\n",
      "Epoch 35/50\n",
      " 3/26 [==>...........................] - ETA: 28s - loss: 0.0646 - accuracy: 0.9896"
     ]
    }
   ],
   "source": [
    "model = build_model(dense_units=256)\n",
    "model.compile(\n",
    "    optimizer='sgd',\n",
    "    loss='sparse_categorical_crossentropy', \n",
    "    metrics=['accuracy'])\n",
    "  \n",
    "model.fit(train_batches, \n",
    "          epochs=50, \n",
    "          validation_data=validation_batches, \n",
    "          callbacks=[ReduceLROnPlateau(monitor='val_loss', \n",
    "                                       factor=0.2, verbose=1,\n",
    "                                       patience=1, min_lr=0.001),\n",
    "                     TensorBoard(log_dir='./log_dir')])"
   ]
  },
  {
   "cell_type": "code",
   "execution_count": null,
   "metadata": {
    "colab": {},
    "colab_type": "code",
    "id": "isfTWP4NYudk"
   },
   "outputs": [],
   "source": [
    "%tensorboard --logdir log_dir"
   ]
  }
 ],
 "metadata": {
  "colab": {
   "collapsed_sections": [],
   "include_colab_link": true,
   "name": "ExploringCallbacks.ipynb",
   "provenance": []
  },
  "kernelspec": {
   "display_name": "Python 3",
   "language": "python",
   "name": "python3"
  },
  "language_info": {
   "codemirror_mode": {
    "name": "ipython",
    "version": 3
   },
   "file_extension": ".py",
   "mimetype": "text/x-python",
   "name": "python",
   "nbconvert_exporter": "python",
   "pygments_lexer": "ipython3",
   "version": "3.7.6"
  }
 },
 "nbformat": 4,
 "nbformat_minor": 4
}
